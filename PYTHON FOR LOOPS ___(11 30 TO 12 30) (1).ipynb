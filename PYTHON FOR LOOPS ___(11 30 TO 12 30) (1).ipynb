{
 "cells": [
  {
   "cell_type": "code",
   "execution_count": 4,
   "id": "18f5f693",
   "metadata": {},
   "outputs": [
    {
     "name": "stdout",
     "output_type": "stream",
     "text": [
      "1,2,3,4,5,6,7,8,9,10,11,12,13,14,15,16,17,18,19,20,"
     ]
    }
   ],
   "source": [
    "for i in range(1,21):\n",
    "    print(i , end=',')"
   ]
  },
  {
   "cell_type": "code",
   "execution_count": 17,
   "id": "2630556d",
   "metadata": {},
   "outputs": [
    {
     "name": "stdout",
     "output_type": "stream",
     "text": [
      "[4, 8, 12, 16, 20, 24, 28, 32, 36, 40, 44, 48, 52, 56, 60, 64, 68, 72, 76, 80]\n"
     ]
    }
   ],
   "source": [
    "x=list(range(21))\n",
    "x[:]=list(range(4,81,4))\n",
    "print(x)"
   ]
  },
  {
   "cell_type": "code",
   "execution_count": 20,
   "id": "3de4072b",
   "metadata": {},
   "outputs": [
    {
     "name": "stdout",
     "output_type": "stream",
     "text": [
      "square of: 4 is: (16,)\n",
      "lucky number\n",
      "square of: 5 is: (25,)\n",
      "square of: 6 is: (36,)\n",
      "square of: 7 is: (49,)\n",
      "square of: 8 is: (64,)\n"
     ]
    }
   ],
   "source": [
    "number=[1,2,3,4,5]\n",
    "for i in number:\n",
    "    i=i+3\n",
    "    square=i**2,\n",
    "    print('square of:',i , 'is:',square)\n",
    "    for j in square:\n",
    "        if j==16:\n",
    "            print('lucky number')"
   ]
  },
  {
   "cell_type": "code",
   "execution_count": 23,
   "id": "ea04a21e",
   "metadata": {},
   "outputs": [
    {
     "name": "stdout",
     "output_type": "stream",
     "text": [
      "square of: 4 is: list[16]\n"
     ]
    },
    {
     "ename": "TypeError",
     "evalue": "'types.GenericAlias' object is not iterable",
     "output_type": "error",
     "traceback": [
      "\u001b[1;31m---------------------------------------------------------------------------\u001b[0m",
      "\u001b[1;31mTypeError\u001b[0m                                 Traceback (most recent call last)",
      "Cell \u001b[1;32mIn[23], line 6\u001b[0m\n\u001b[0;32m      4\u001b[0m square\u001b[38;5;241m=\u001b[39m\u001b[38;5;28mlist\u001b[39m[(i\u001b[38;5;241m*\u001b[39m\u001b[38;5;241m*\u001b[39m\u001b[38;5;241m2\u001b[39m)]\n\u001b[0;32m      5\u001b[0m \u001b[38;5;28mprint\u001b[39m(\u001b[38;5;124m'\u001b[39m\u001b[38;5;124msquare of:\u001b[39m\u001b[38;5;124m'\u001b[39m,i , \u001b[38;5;124m'\u001b[39m\u001b[38;5;124mis:\u001b[39m\u001b[38;5;124m'\u001b[39m,square)\n\u001b[1;32m----> 6\u001b[0m \u001b[38;5;28;01mfor\u001b[39;00m j \u001b[38;5;129;01min\u001b[39;00m square:\n\u001b[0;32m      7\u001b[0m     \u001b[38;5;28;01mif\u001b[39;00m j\u001b[38;5;241m==\u001b[39m\u001b[38;5;241m16\u001b[39m:\n\u001b[0;32m      8\u001b[0m         \u001b[38;5;28mprint\u001b[39m(\u001b[38;5;124m'\u001b[39m\u001b[38;5;124mlucky number\u001b[39m\u001b[38;5;124m'\u001b[39m)\n",
      "\u001b[1;31mTypeError\u001b[0m: 'types.GenericAlias' object is not iterable"
     ]
    }
   ],
   "source": [
    "number=[1,2,3,4,5]\n",
    "for i in number:\n",
    "    i=i+3\n",
    "    square=list[(i**2)]\n",
    "    print('square of:',i , 'is:',square)\n",
    "    for j in square:\n",
    "        if j==16:\n",
    "            print('lucky number')"
   ]
  },
  {
   "cell_type": "code",
   "execution_count": 24,
   "id": "41345368",
   "metadata": {},
   "outputs": [
    {
     "name": "stdout",
     "output_type": "stream",
     "text": [
      "square of: 4 is: [16]\n",
      "lucky number\n",
      "square of: 5 is: [25]\n",
      "square of: 6 is: [36]\n",
      "square of: 7 is: [49]\n",
      "square of: 8 is: [64]\n"
     ]
    }
   ],
   "source": [
    "number=[1,2,3,4,5]\n",
    "for i in number:\n",
    "    i=i+3\n",
    "    square=list([(i**2)])\n",
    "    print('square of:',i , 'is:',square)\n",
    "    for j in square:\n",
    "        if j==16:\n",
    "            print('lucky number')"
   ]
  },
  {
   "cell_type": "code",
   "execution_count": 34,
   "id": "78dcb72a",
   "metadata": {},
   "outputs": [
    {
     "name": "stdout",
     "output_type": "stream",
     "text": [
      "2\n",
      "6\n",
      "12\n",
      "20\n",
      "30\n",
      "42\n",
      "56\n",
      "72\n",
      "90\n",
      "110\n",
      "110\n"
     ]
    }
   ],
   "source": [
    "sum=0\n",
    "for i in range(2,22,2):\n",
    "    sum=sum+i\n",
    "    print(sum)\n",
    "print(sum)"
   ]
  },
  {
   "cell_type": "code",
   "execution_count": 39,
   "id": "cf461ff6",
   "metadata": {},
   "outputs": [
    {
     "name": "stdout",
     "output_type": "stream",
     "text": [
      "green\n",
      "g\n",
      "ggg\n",
      "r\n",
      "rrr\n",
      "e\n",
      "eee\n",
      "e\n",
      "eee\n",
      "n\n",
      "nnn\n",
      "y\n",
      "yyy\n",
      "e\n",
      "eee\n",
      "l\n",
      "lll\n",
      "l\n",
      "lll\n",
      "o\n",
      "ooo\n",
      "w\n",
      "www\n",
      "r\n",
      "rrr\n",
      "e\n",
      "eee\n",
      "d\n",
      "ddd\n",
      "ddd\n"
     ]
    }
   ],
   "source": [
    "x=['green','yellow','red']\n",
    "for i in x:\n",
    "    if i=='green':\n",
    "        print(i)\n",
    "    for j in i:\n",
    "        print(j)\n",
    "        for k in j:\n",
    "            if k!='yellow':\n",
    "                print(k*3)\n",
    "print(k*3)                "
   ]
  },
  {
   "cell_type": "code",
   "execution_count": null,
   "id": "983491e3",
   "metadata": {},
   "outputs": [],
   "source": [
    "colours=['green','yellow','red']\n",
    "for colour in x:\n",
    "    if colour=='green':\n",
    "        print(colour)\n",
    "    for i in colour:\n",
    "        print(i)\n",
    "        for j in i:\n",
    "            if j!='yellow':\n",
    "                print(j*3)\n",
    "print(j*3) "
   ]
  },
  {
   "cell_type": "code",
   "execution_count": 38,
   "id": "baf4afe4",
   "metadata": {},
   "outputs": [
    {
     "name": "stdout",
     "output_type": "stream",
     "text": [
      "green\n",
      "g\n",
      "ggg\n",
      "r\n",
      "rrr\n",
      "e\n",
      "eee\n",
      "e\n",
      "eee\n",
      "n\n",
      "nnn\n",
      "y\n",
      "yyy\n",
      "e\n",
      "eee\n",
      "l\n",
      "lll\n",
      "l\n",
      "lll\n",
      "o\n",
      "ooo\n",
      "w\n",
      "www\n",
      "r\n",
      "rrr\n",
      "e\n",
      "eee\n",
      "d\n",
      "ddd\n",
      "ddd\n"
     ]
    }
   ],
   "source": [
    "colours=['green','yellow','red']\n",
    "for colour in x:\n",
    "    if colour=='green':\n",
    "        print(colour)\n",
    "    for i in colour:\n",
    "        print(i)\n",
    "        for j in i:\n",
    "            if j!='yellow':\n",
    "                print(j*3)\n",
    "print(j*3)                "
   ]
  },
  {
   "cell_type": "code",
   "execution_count": null,
   "id": "26001a8e",
   "metadata": {},
   "outputs": [],
   "source": [
    "client_data={'suryansh':{'last date':13,4,2024"
   ]
  },
  {
   "cell_type": "code",
   "execution_count": 6,
   "id": "6db953bb",
   "metadata": {},
   "outputs": [
    {
     "name": "stdout",
     "output_type": "stream",
     "text": [
      "enter your name :suryansh\n",
      "[15, 6, 2024]\n"
     ]
    }
   ],
   "source": [
    "client_data={'suryansh':{'last date':[13,4,2024]},'aayush':{'last date':[15,6,2024]}}\n",
    "enter_name=input('enter your name :')\n",
    "for client in client_data:\n",
    "    if client==enter_name:\n",
    "        print(a[i]['last date'])"
   ]
  },
  {
   "cell_type": "code",
   "execution_count": 3,
   "id": "7a5927ea",
   "metadata": {},
   "outputs": [
    {
     "name": "stdout",
     "output_type": "stream",
     "text": [
      "{'last date': [13, 4, 2024]}\n",
      "{'last date': [15, 6, 2024]}\n"
     ]
    }
   ],
   "source": [
    "a={'suryansh':{'last date':[13,4,2024]},'aayush':{'last date':[15,6,2024]}}\n",
    "\n",
    "for i in a:\n",
    "    print(a[i])"
   ]
  },
  {
   "cell_type": "code",
   "execution_count": 5,
   "id": "63b846f7",
   "metadata": {},
   "outputs": [
    {
     "name": "stdout",
     "output_type": "stream",
     "text": [
      "enter your name :suryansh\n",
      " \n",
      "\n",
      "\n",
      "\n",
      " \n",
      "your last appointement was on :  [13, 4, 2024]\n",
      "enter your problem : dengue\n",
      "advised medicine is : A\n"
     ]
    }
   ],
   "source": [
    "client_data={'suryansh':{'last date':[13,4,2024]},'aayush':{'last date':[15,6,2024]}}\n",
    "enter_name=input('enter your name :')\n",
    "for client in client_data:\n",
    "    if client==enter_name:\n",
    "        print(' \\n\\n\\n\\n ')\n",
    "        print('your last appointement was on : ',client_data[client]['last date'])\n",
    "        problem=input('enter your problem : ')\n",
    "        if problem=='dengue':\n",
    "            print('advised medicine is : A')\n",
    "        elif problem=='fever':\n",
    "            print('advised medicine is : B')\n",
    "        elif problem=='malaria':\n",
    "            print('advised medicine is : C')\n",
    "        else :\n",
    "            print('sorry no medicine is availaible for',problem)\n",
    "    else:\n",
    "        print(' \\n\\n\\n\\n ')\n",
    "        print('you are a new client')\n",
    "        print(' \\n\\n ')\n",
    "        print('submit RUPEES 300 login fees in the counter')\n",
    "        print(' \\n\\n ')\n",
    "        code=int(input('enter the code you received from counter :'))\n",
    "        if code!=24590:\n",
    "                print('the code is invalid')\n",
    "        else:\n",
    "            print(' \\n\\n ')\n",
    "            print('WELCOME DEAR ', enter_name)\n",
    "            problem=input('enter your problem : ')\n",
    "            if problem=='dengue':\n",
    "                print('advised medicine is : A')\n",
    "            elif problem=='fever':\n",
    "                print('advised medicine is : B')\n",
    "            elif problem=='malaria':\n",
    "                print('advised medicine is : C')\n",
    "            else :\n",
    "                print('sorry no medicine is availaible for',problem)            \n",
    "    break"
   ]
  },
  {
   "cell_type": "code",
   "execution_count": 31,
   "id": "42511c38",
   "metadata": {},
   "outputs": [
    {
     "name": "stdout",
     "output_type": "stream",
     "text": [
      "enter first number : 12\n",
      "enter second number : 10\n",
      "enter operation :sum\n",
      "['sum of 12 and 10 is :', 22, True, 'subt of 12 and 10 is :', 2, False]\n"
     ]
    }
   ],
   "source": [
    "a=int(input('enter first number : '))\n",
    "b=int(input('enter second number : '))\n",
    "c=input('enter operation :')\n",
    "d=[f'sum of {a} and {b} is :',a+b, c=='sum',\\\n",
    "   f'subt of {a} and {b} is :',a-b, c=='subt']\n",
    "print(d)"
   ]
  },
  {
   "cell_type": "code",
   "execution_count": 37,
   "id": "ea1e2f1d",
   "metadata": {},
   "outputs": [
    {
     "ename": "SyntaxError",
     "evalue": "invalid syntax (2823988998.py, line 4)",
     "output_type": "error",
     "traceback": [
      "\u001b[1;36m  Cell \u001b[1;32mIn[37], line 4\u001b[1;36m\u001b[0m\n\u001b[1;33m    d=[f'sum of {a} and {b} is :'if else c=='sum' (a+b) else \\\u001b[0m\n\u001b[1;37m                                    ^\u001b[0m\n\u001b[1;31mSyntaxError\u001b[0m\u001b[1;31m:\u001b[0m invalid syntax\n"
     ]
    }
   ],
   "source": [
    "a=int(input('enter first number : '))\n",
    "b=int(input('enter second number : '))\n",
    "c=input('enter operation :')\n",
    "d=[if f'sum of {a} and {b} is ': c=='+' (a+b)  \\\n",
    "   elif f'subt of {a} and {b} is ': c=='-' (a-b)\\\n",
    "  elif f'product of {a} and {b} is :'c=='*' (a*b)\\\n",
    "   elif f' division of {a} and {b} is :'c=='\\' (a\\b) \n",
    "print(d)+"
   ]
  },
  {
   "cell_type": "code",
   "execution_count": null,
   "id": "b06e7162",
   "metadata": {},
   "outputs": [],
   "source": [
    "a=int(input('enter first number : '))\n",
    "b=int(input('enter second number : '))\n",
    "c=input('enter operation :')\n",
    "if c== '+' :\n",
    "    f'sum of {a} and {b} is :'  (a+b)  \n",
    "elif c== '+' :\n",
    "    f'subt of {a} and {b} is :' (a-b)\n",
    "elif c== '+':\n",
    "    f'product of {a} and {b} is :' (a*b)\n",
    "elif c== '+':\n",
    "    f' division of {a} and {b} is :' (a/b)\n",
    "else :\n",
    "    print('invalid syntax')\n"
   ]
  },
  {
   "cell_type": "code",
   "execution_count": null,
   "id": "5fb56fcd",
   "metadata": {},
   "outputs": [],
   "source": [
    "\n"
   ]
  },
  {
   "cell_type": "code",
   "execution_count": 20,
   "id": "247e7ed3",
   "metadata": {},
   "outputs": [
    {
     "ename": "SyntaxError",
     "evalue": "invalid syntax. Perhaps you forgot a comma? (254982495.py, line 5)",
     "output_type": "error",
     "traceback": [
      "\u001b[1;36m  Cell \u001b[1;32mIn[20], line 5\u001b[1;36m\u001b[0m\n\u001b[1;33m    result=[(f'sum of {a} and {b} is :'a+b if c == '+'),\u001b[0m\n\u001b[1;37m             ^\u001b[0m\n\u001b[1;31mSyntaxError\u001b[0m\u001b[1;31m:\u001b[0m invalid syntax. Perhaps you forgot a comma?\n"
     ]
    }
   ],
   "source": [
    "a = int(input('enter 1st number: '))\n",
    "b = int(input('enter 2nd number: '))\n",
    "c= input('enter the operator : ')\n",
    "a=['+','-','*','/']\n",
    "result=[f'sum of {a} and {b} is :'a+b if c == '+',\n",
    "        f'subtraction of {a} and {b} is :'a-b elif c == '-',\n",
    "        f'product of {a} and {b} is :'a*b elif c == '*', \n",
    "        f'division of {a} anf {b} is :'a\\b elif c=='/'\n",
    "        ' invalid syntax' elif c not in a]"
   ]
  },
  {
   "cell_type": "code",
   "execution_count": null,
   "id": "d949fc59",
   "metadata": {},
   "outputs": [],
   "source": []
  },
  {
   "cell_type": "code",
   "execution_count": 6,
   "id": "9a3b241f",
   "metadata": {},
   "outputs": [
    {
     "ename": "SyntaxError",
     "evalue": "invalid syntax. Perhaps you forgot a comma? (3352719340.py, line 4)",
     "output_type": "error",
     "traceback": [
      "\u001b[1;36m  Cell \u001b[1;32mIn[6], line 4\u001b[1;36m\u001b[0m\n\u001b[1;33m    result = [f'sum of {a} and {b} is :'a+b, if c == '+',f'subtraction of {a} and {b} is :'a-b ,elif c == '-' ,f'product of {a} and {b} is :'a*b, elif c == '*' ,f'division of {a} anf {b} is :'a\\b ,elif c=='/' ]\u001b[0m\n\u001b[1;37m              ^\u001b[0m\n\u001b[1;31mSyntaxError\u001b[0m\u001b[1;31m:\u001b[0m invalid syntax. Perhaps you forgot a comma?\n"
     ]
    }
   ],
   "source": [
    "a = int(input('enter 1st number: '))\n",
    "b = int(input('enter 2nd number: '))\n",
    "c= input('enter the operator : ')\n",
    "result = [f'sum of {a} and {b} is :'a+b, if c == '+',f'subtraction of {a} and {b} is :'a-b ,elif c == '-' ,f'product of {a} and {b} is :'a*b, elif c == '*' ,f'division of {a} anf {b} is :'a\\b ,elif c=='/' ]\n",
    "\n",
    "print(result)\n"
   ]
  },
  {
   "cell_type": "code",
   "execution_count": null,
   "id": "1668afcc",
   "metadata": {},
   "outputs": [],
   "source": [
    "a = int(input('enter 1st number: '))\n",
    "b = int(input('enter 2nd number: '))\n",
    "c= input('enter the operator : ')\n",
    "result = f'sum of {a} and {b} is :',print(a+b) if c == '+' else print('pk')\n",
    "          "
   ]
  },
  {
   "cell_type": "code",
   "execution_count": null,
   "id": "a1dc6cdb",
   "metadata": {},
   "outputs": [],
   "source": []
  },
  {
   "cell_type": "code",
   "execution_count": null,
   "id": "a66b3628",
   "metadata": {},
   "outputs": [],
   "source": [
    "a = int(input('enter 1st number: '))\n",
    "b = int(input('enter 2nd number: '))\n",
    "c= input('enter the operator : ')\n",
    "result = f'sum of {a} and {b} is :'a+b if c == '+' \n",
    "         f'subtraction of {a} and {b} is :' else print('pk')\n",
    "          "
   ]
  },
  {
   "cell_type": "code",
   "execution_count": 6,
   "id": "738368b4",
   "metadata": {},
   "outputs": [
    {
     "name": "stdout",
     "output_type": "stream",
     "text": [
      "enter 1st number: 123\n",
      "enter 2nd number: 41\n",
      "enter the operator : +\n",
      "164\n"
     ]
    }
   ],
   "source": [
    "a = int(input('enter 1st number: '))\n",
    "b = int(input('enter 2nd number: '))\n",
    "c= input('enter the operator : ')\n",
    "result = [f'sum of {a} and {b} is :',print(a+b) if c == '+' else (' a'),\n",
    "          f'subtraction  of {a} and {b} is :',print(a-b) if c == '-' else (' a'),\n",
    "          f'multiplication of {a} and {b} is :',print(a*b) if c == '*' else (' a'),\n",
    "          f'division of {a} and {b} is :',print(a/b) if c == '/' else (' a')] \n",
    "          "
   ]
  },
  {
   "cell_type": "code",
   "execution_count": 7,
   "id": "99d42d5a",
   "metadata": {},
   "outputs": [
    {
     "name": "stdout",
     "output_type": "stream",
     "text": [
      "enter 1st number: 16\n",
      "enter 2nd number: 19\n",
      "enter the operator : -\n",
      "-3\n",
      "subtraction  of 16 and 19 is :\n"
     ]
    }
   ],
   "source": [
    "a = int(input('enter 1st number: '))\n",
    "b = int(input('enter 2nd number: '))\n",
    "c= input('enter the operator : ')\n",
    "result = [f'sum of {a} and {b} is :',print(a+b) if c == '+' else (' a'),\n",
    "          f'subtraction  of {a} and {b} is :',print(a-b) if c == '-' else (' a'),\n",
    "          f'multiplication of {a} and {b} is :',print(a*b) if c == '*' else (' a'),\n",
    "          f'division of {a} and {b} is :',print(a/b) if c == '/' else (' a')] \n",
    "if c=='+':\n",
    "    print(result[1])\n",
    "elif c=='-':\n",
    "    print(result[2])\n",
    "elif c=='*':\n",
    "    print(result[3])\n",
    "elif c=='/':\n",
    "    print(result[4])\n",
    "else:\n",
    "    print('invalid')"
   ]
  },
  {
   "cell_type": "code",
   "execution_count": 4,
   "id": "e8dddde2",
   "metadata": {},
   "outputs": [
    {
     "name": "stdout",
     "output_type": "stream",
     "text": [
      "enter 1st number: 12\n",
      "enter 2nd number: 12\n",
      "enter the operator : x\n"
     ]
    }
   ],
   "source": [
    "a = int(input('enter 1st number: '))\n",
    "b = int(input('enter 2nd number: '))\n",
    "c= input('enter the operator : ')\n",
    "result = [f'sum of {a} and {b} is :',print(a+b) if c == '+' else ('a'),\n",
    "          f'subtraction of {a} and {b} is :',print(a-b) if c == '-' else ('a'),\n",
    "          f'multiplication of {a} and {b} is :',print(a*b) if c == '*' else ('a'),\n",
    "          f'division of {a} and {b} is :',print(a/b) if c == '/' else ('a')] \n",
    "          "
   ]
  },
  {
   "cell_type": "code",
   "execution_count": 3,
   "id": "74f74fdf",
   "metadata": {},
   "outputs": [
    {
     "name": "stdout",
     "output_type": "stream",
     "text": [
      "enter 1st number: 12\n",
      "enter 2nd number: 12\n",
      "enter the operator : *\n",
      "144\n",
      "['sum of 12 and 12 is :', ' ', 'sum of 12 and 12 is :', ' ', 'sum of 12 and 12 is :', None, 'sum of 12 and 12 is :', ' ']\n"
     ]
    }
   ],
   "source": [
    "a = int(input('enter 1st number: '))\n",
    "b = int(input('enter 2nd number: '))\n",
    "c= input('enter the operator : ')\n",
    "result = [f'sum of {a} and {b} is :',print(a+b) if c == '+' else (' '),\n",
    "          f'subtraction of {a} and {b} is :',print(a-b) if c == '-' else (' '),\n",
    "          f'multiplication of {a} and {b} is :',print(a*b) if c == '*' else (' '),\n",
    "          f'division of {a} and {b} is :',print(a/b) if c == '/' else (' ')] \n",
    "print(result)"
   ]
  },
  {
   "cell_type": "code",
   "execution_count": null,
   "id": "6bb058cc",
   "metadata": {},
   "outputs": [],
   "source": [
    "a = int(input('enter 1st number: '))\n",
    "b = int(input('enter 2nd number: '))\n",
    "c= input('enter the operator : ')\n",
    "result = [f'sum of {a} and {b} is :',a+b if c == '+' else (),\n",
    "          f'subtraction of {a} and {b} is :',a-b if c == '-' else (),\n",
    "          f'multiplication of {a} and {b} is :',a*b if c == '*' else (),\n",
    "          f'division of {a} and {b} is :',a/b if c == '/' else ()] \n",
    "print(result)"
   ]
  },
  {
   "cell_type": "code",
   "execution_count": 6,
   "id": "171e7111",
   "metadata": {},
   "outputs": [
    {
     "name": "stdout",
     "output_type": "stream",
     "text": [
      "enter 1st number: 12\n",
      "enter 2nd number: 12\n",
      "enter the operator : s\n",
      "['sum of 12 and 12 is :', '', 'sum of 12 and 12 is :', '', 'sum of 12 and 12 is :', '', 'sum of 12 and 12 is :', '']\n"
     ]
    }
   ],
   "source": [
    "a = int(input('enter 1st number: '))\n",
    "b = int(input('enter 2nd number: '))\n",
    "c= input('enter the operator : ')\n",
    "result = [f'sum of {a} and {b} is :',a+b if c == '+' else '',\n",
    "          f'subtraction of {a} and {b} is :',a-b if c == '-' else '',\n",
    "          f'multiplication of {a} and {b} is :',a*b if c == '*' else '',\n",
    "          f'division of {a} and {b} is :',a/b if c == '/' else ''] \n",
    "print(result)"
   ]
  },
  {
   "cell_type": "markdown",
   "id": "8fa9efc8",
   "metadata": {},
   "source": [
    "#### continue\n",
    "- the continue statement skips the current iteration of a loop and jumps to the next iteration immediately.\n",
    "- use the  continue statement when you want to jump to the next iteration of loop immediately."
   ]
  },
  {
   "cell_type": "code",
   "execution_count": 1,
   "id": "8a41e1e8",
   "metadata": {},
   "outputs": [],
   "source": [
    "#find the total number of m in the group of strings."
   ]
  },
  {
   "cell_type": "code",
   "execution_count": 16,
   "id": "b7042d4a",
   "metadata": {},
   "outputs": [
    {
     "name": "stdout",
     "output_type": "stream",
     "text": [
      "2\n"
     ]
    }
   ],
   "source": [
    "a='mariya mennen'\n",
    "b=0\n",
    "for i in a:\n",
    "    if i!='m':\n",
    "        continue\n",
    "    else:\n",
    "        c=b+a.count(i)\n",
    "print(c)\n",
    "        "
   ]
  },
  {
   "cell_type": "code",
   "execution_count": 18,
   "id": "43a11798",
   "metadata": {},
   "outputs": [
    {
     "name": "stdout",
     "output_type": "stream",
     "text": [
      "39\n"
     ]
    }
   ],
   "source": [
    "a='mariya mennenmmmmmmmmmmmmmmmmmmmmmmmmmmm a dasdfasdasaamadmamdasmdmsdmsamfmfamfmasf'\n",
    "b=0\n",
    "for i in a:\n",
    "    if i!='m':\n",
    "        continue\n",
    "    else:\n",
    "        c=b+a.count(i)\n",
    "print(c)\n",
    "        "
   ]
  },
  {
   "cell_type": "code",
   "execution_count": null,
   "id": "8049ec7b",
   "metadata": {},
   "outputs": [],
   "source": [
    "a='mariya mennenmmmmmmmmmmmmmmmmmmmmmmmmmmm a dasdfasdasaamadmamdasmdmsdmsamfmfamfmasf'\n",
    "b=0\n",
    "for i in a:\n",
    "    if i!='m':\n",
    "        continue\n",
    "    else:\n",
    "        c=b+a.count(i)\n",
    "print(c)\n",
    "        "
   ]
  },
  {
   "cell_type": "code",
   "execution_count": 23,
   "id": "078351d1",
   "metadata": {},
   "outputs": [
    {
     "name": "stdout",
     "output_type": "stream",
     "text": [
      "[39, 39, 39, 39, 39, 39, 39, 39, 39, 39, 39, 39, 39, 39, 39, 39, 39, 39, 39, 39, 39, 39, 39, 39, 39, 39, 39, 39, 39, 39, 39, 39, 39, 39, 39, 39, 39, 39, 39]\n",
      "1521\n"
     ]
    }
   ],
   "source": [
    "a='mariya mennenmmmmmmmmmmmmmmmmmmmmmmmmmmm a dasdfasdasaamadmamdasmdmsdmsamfmfamfmasf'\n",
    "b=[]\n",
    "for i in a:\n",
    "    if i!='m':\n",
    "        continue\n",
    "    else:\n",
    "        b.append(a.count(i))\n",
    "print(b)\n",
    "print(sum(b))\n",
    "        "
   ]
  },
  {
   "cell_type": "code",
   "execution_count": 26,
   "id": "10417867",
   "metadata": {},
   "outputs": [
    {
     "name": "stdout",
     "output_type": "stream",
     "text": [
      "[2, 2]\n",
      "4\n"
     ]
    }
   ],
   "source": [
    "a='mariya mennen'\n",
    "b=[]\n",
    "for i in a:\n",
    "    if i!='m':\n",
    "        continue\n",
    "    else:\n",
    "        b.append(a.count(i))\n",
    "print(b)\n",
    "print(sum(b))\n",
    "        "
   ]
  },
  {
   "cell_type": "code",
   "execution_count": 28,
   "id": "0cd2e014",
   "metadata": {},
   "outputs": [
    {
     "data": {
      "text/plain": [
       "2"
      ]
     },
     "execution_count": 28,
     "metadata": {},
     "output_type": "execute_result"
    }
   ],
   "source": [
    "a='mariya mennen'\n",
    "b=[]\n",
    "for i in a:\n",
    "    if i!='m':\n",
    "        continue\n",
    "    else:\n",
    "        b.append(i)\n",
    "b.count('m')      "
   ]
  },
  {
   "cell_type": "code",
   "execution_count": 25,
   "id": "8fed669d",
   "metadata": {},
   "outputs": [
    {
     "name": "stdout",
     "output_type": "stream",
     "text": [
      "[39, 39, 39, 39, 39, 39, 39, 39, 39, 39, 39, 39, 39, 39, 39, 39, 39, 39, 39, 39, 39, 39, 39, 39, 39, 39, 39, 39, 39, 39, 39, 39, 39, 39, 39, 39, 39, 39, 39]\n",
      "1521\n"
     ]
    }
   ],
   "source": [
    "a='mariya mennenmmmmmmmmmmmmmmmmmmmmmmmmmmm a dasdfasdasaamadmamdasmdmsdmsamfmfamfmasf'\n",
    "b=[]\n",
    "for i in a:\n",
    "    if i!='m':\n",
    "        continue\n",
    "    else:\n",
    "        x=a.count(i)\n",
    "        b.append(x)\n",
    "print(b)\n",
    "print(sum(b))\n",
    "        "
   ]
  },
  {
   "cell_type": "code",
   "execution_count": 10,
   "id": "6c8d7708",
   "metadata": {},
   "outputs": [
    {
     "ename": "SyntaxError",
     "evalue": "invalid syntax. Maybe you meant '==' or ':=' instead of '='? (1908580189.py, line 6)",
     "output_type": "error",
     "traceback": [
      "\u001b[1;36m  Cell \u001b[1;32mIn[10], line 6\u001b[1;36m\u001b[0m\n\u001b[1;33m    b==name.count(i),end=','\u001b[0m\n\u001b[1;37m                     ^\u001b[0m\n\u001b[1;31mSyntaxError\u001b[0m\u001b[1;31m:\u001b[0m invalid syntax. Maybe you meant '==' or ':=' instead of '='?\n"
     ]
    }
   ],
   "source": [
    "a='mariya mennen'\n",
    "for i in a:\n",
    "    if i!='m':\n",
    "        continue\n",
    "    else:\n",
    "        b==name.count(i),end=','\n",
    "    sum(b)"
   ]
  },
  {
   "cell_type": "code",
   "execution_count": 12,
   "id": "c0e0f5a3",
   "metadata": {},
   "outputs": [
    {
     "ename": "SyntaxError",
     "evalue": "invalid syntax. Maybe you meant '==' or ':=' instead of '='? (2310882245.py, line 6)",
     "output_type": "error",
     "traceback": [
      "\u001b[1;36m  Cell \u001b[1;32mIn[12], line 6\u001b[1;36m\u001b[0m\n\u001b[1;33m    b=name.count(i),end=','\u001b[0m\n\u001b[1;37m    ^\u001b[0m\n\u001b[1;31mSyntaxError\u001b[0m\u001b[1;31m:\u001b[0m invalid syntax. Maybe you meant '==' or ':=' instead of '='?\n"
     ]
    }
   ],
   "source": [
    "a='mariya mennen'\n",
    "for i in a:\n",
    "    if i!='m':\n",
    "        continue\n",
    "    else:\n",
    "        b=name.count(i),end=','\n",
    "    sum(b)"
   ]
  },
  {
   "cell_type": "code",
   "execution_count": 6,
   "id": "d50f9acb",
   "metadata": {},
   "outputs": [
    {
     "name": "stdout",
     "output_type": "stream",
     "text": [
      "m\n",
      "a\n",
      "r\n",
      "i\n",
      "y\n",
      "a\n",
      " \n",
      "m\n",
      "e\n",
      "n\n",
      "n\n",
      "e\n",
      "n\n"
     ]
    }
   ],
   "source": [
    "a='mariya mennen'\n",
    "for i in a:\n",
    "        \n",
    "    if type(i)==str:\n",
    "        print(i)\n",
    "        continue\n",
    "    elif i=='m':\n",
    "        print(i)"
   ]
  },
  {
   "cell_type": "code",
   "execution_count": 9,
   "id": "fb5d7ef7",
   "metadata": {},
   "outputs": [
    {
     "name": "stdout",
     "output_type": "stream",
     "text": [
      "m\n",
      "m\n"
     ]
    }
   ],
   "source": [
    "a='mariya mennen'\n",
    "for i in a:\n",
    "    if i=='m':\n",
    "        print(i) \n",
    "        continue\n",
    "    elif type(i)==float:\n",
    "        print(i)"
   ]
  },
  {
   "cell_type": "code",
   "execution_count": 2,
   "id": "6de1b83c",
   "metadata": {},
   "outputs": [
    {
     "name": "stdout",
     "output_type": "stream",
     "text": [
      "a\n",
      "r\n",
      "i\n",
      "y\n",
      "a\n",
      " \n",
      "e\n",
      "n\n",
      "n\n",
      "e\n",
      "n\n"
     ]
    }
   ],
   "source": [
    "a='mariya mennen'\n",
    "for i in a:\n",
    "    if i=='m':\n",
    "        continue\n",
    "    elif type(i)==str:\n",
    "        print(i)"
   ]
  },
  {
   "cell_type": "code",
   "execution_count": 3,
   "id": "d3b0ff84",
   "metadata": {},
   "outputs": [
    {
     "name": "stdout",
     "output_type": "stream",
     "text": [
      "m\n",
      "m\n"
     ]
    }
   ],
   "source": [
    "a='mariya mennen'\n",
    "for i in a:\n",
    "    if i!='m':\n",
    "        continue\n",
    "    else:\n",
    "        print(i)"
   ]
  },
  {
   "cell_type": "code",
   "execution_count": null,
   "id": "f7d4ccd0",
   "metadata": {},
   "outputs": [],
   "source": [
    "a='mariya mennen'\n",
    "for i in a:\n",
    "    if i=='m':\n",
    "        print(i) \n",
    "        continue\n",
    "    elif i==float:\n",
    "        print(i)\n",
    "    else:"
   ]
  },
  {
   "cell_type": "code",
   "execution_count": null,
   "id": "c4c6fda9",
   "metadata": {},
   "outputs": [],
   "source": []
  }
 ],
 "metadata": {
  "kernelspec": {
   "display_name": "Python 3 (ipykernel)",
   "language": "python",
   "name": "python3"
  },
  "language_info": {
   "codemirror_mode": {
    "name": "ipython",
    "version": 3
   },
   "file_extension": ".py",
   "mimetype": "text/x-python",
   "name": "python",
   "nbconvert_exporter": "python",
   "pygments_lexer": "ipython3",
   "version": "3.10.9"
  }
 },
 "nbformat": 4,
 "nbformat_minor": 5
}
