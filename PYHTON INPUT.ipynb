{
 "cells": [
  {
   "cell_type": "code",
   "execution_count": 1,
   "id": "0a38d058",
   "metadata": {},
   "outputs": [
    {
     "name": "stdout",
     "output_type": "stream",
     "text": [
      "quotation of mark twain:5\n"
     ]
    },
    {
     "data": {
      "text/plain": [
       "'5'"
      ]
     },
     "execution_count": 1,
     "metadata": {},
     "output_type": "execute_result"
    }
   ],
   "source": [
    "input('quotation of mark twain:')"
   ]
  },
  {
   "cell_type": "code",
   "execution_count": 5,
   "id": "d9d99ec0",
   "metadata": {},
   "outputs": [
    {
     "name": "stdout",
     "output_type": "stream",
     "text": [
      "employee name{1,3}\n"
     ]
    },
    {
     "data": {
      "text/plain": [
       "'{1,3}'"
      ]
     },
     "execution_count": 5,
     "metadata": {},
     "output_type": "execute_result"
    }
   ],
   "source": [
    "input('employee name')"
   ]
  },
  {
   "cell_type": "code",
   "execution_count": 6,
   "id": "c92c159b",
   "metadata": {},
   "outputs": [
    {
     "name": "stdout",
     "output_type": "stream",
     "text": [
      "[1, 2, 3]{1,4}\n"
     ]
    },
    {
     "data": {
      "text/plain": [
       "'{1,4}'"
      ]
     },
     "execution_count": 6,
     "metadata": {},
     "output_type": "execute_result"
    }
   ],
   "source": [
    "input([1,2,3])"
   ]
  },
  {
   "cell_type": "code",
   "execution_count": 8,
   "id": "d38c22aa",
   "metadata": {},
   "outputs": [
    {
     "name": "stdout",
     "output_type": "stream",
     "text": [
      "employee name'suryansh'\n"
     ]
    },
    {
     "data": {
      "text/plain": [
       "\"'suryansh'\""
      ]
     },
     "execution_count": 8,
     "metadata": {},
     "output_type": "execute_result"
    }
   ],
   "source": [
    "input('employee name')"
   ]
  },
  {
   "cell_type": "code",
   "execution_count": 9,
   "id": "2d2eb739",
   "metadata": {},
   "outputs": [
    {
     "name": "stdout",
     "output_type": "stream",
     "text": [
      "employee namesuryansh\n"
     ]
    },
    {
     "data": {
      "text/plain": [
       "'suryansh'"
      ]
     },
     "execution_count": 9,
     "metadata": {},
     "output_type": "execute_result"
    }
   ],
   "source": [
    "input('employee name')"
   ]
  },
  {
   "cell_type": "code",
   "execution_count": 13,
   "id": "879b84c1",
   "metadata": {},
   "outputs": [
    {
     "name": "stdout",
     "output_type": "stream",
     "text": [
      "enter employee name'ok'\n",
      "enter salary'no'\n"
     ]
    }
   ],
   "source": [
    "name=input('enter employee name')\n",
    "salary=input('enter salary')"
   ]
  },
  {
   "cell_type": "code",
   "execution_count": 1,
   "id": "acd08ab2",
   "metadata": {},
   "outputs": [
    {
     "name": "stdout",
     "output_type": "stream",
     "text": [
      "enter employee name:suryansh\n",
      "enter salary:11222\n",
      "enter company name:gu gal\n",
      "\n",
      "\n",
      "printing employee details\n",
      "name salary company\n",
      "suryansh gu gal 11222\n",
      "suryansh\n"
     ]
    },
    {
     "data": {
      "text/plain": [
       "NoneType"
      ]
     },
     "execution_count": 1,
     "metadata": {},
     "output_type": "execute_result"
    }
   ],
   "source": [
    "name=input('enter employee name:')\n",
    "salary=input('enter salary:')\n",
    "company=input('enter company name:')\n",
    "print('\\n')\n",
    "print('printing employee details')\n",
    "print('name','salary','company')\n",
    "print(name, company , salary)\n",
    "type(print(name))"
   ]
  },
  {
   "cell_type": "code",
   "execution_count": 1,
   "id": "13531f1a",
   "metadata": {},
   "outputs": [
    {
     "name": "stdout",
     "output_type": "stream",
     "text": [
      "enter employee name:suryansh\n",
      "enter salary:11222\n",
      "enter company name:gu gal\n",
      "\n",
      "\n",
      "printing employee details\n",
      "name salary company\n",
      "suryansh , gu gal , 11222\n",
      "suryansh\n"
     ]
    },
    {
     "data": {
      "text/plain": [
       "NoneType"
      ]
     },
     "execution_count": 1,
     "metadata": {},
     "output_type": "execute_result"
    }
   ],
   "source": [
    "name=input('enter employee name:')\n",
    "salary=input('enter salary:')\n",
    "company=input('enter company name:')\n",
    "print('\\n')\n",
    "print('printing employee details')\n",
    "print('name','salary','company')\n",
    "print(name,',',company,',',salary)\n",
    "type(print(name))"
   ]
  },
  {
   "cell_type": "code",
   "execution_count": 2,
   "id": "8a5fb7db",
   "metadata": {},
   "outputs": [
    {
     "name": "stdout",
     "output_type": "stream",
     "text": [
      "enter employee name:suryansh\n",
      "enter salary:11222\n",
      "enter company name:gu gal\n",
      "\n",
      "\n",
      "printing employee details\n",
      "name salary company\n",
      "suryanshgu gal , gu gal , 11222\n",
      "suryansh\n"
     ]
    },
    {
     "data": {
      "text/plain": [
       "NoneType"
      ]
     },
     "execution_count": 2,
     "metadata": {},
     "output_type": "execute_result"
    }
   ],
   "source": [
    "name=input('enter employee name:')\n",
    "salary=input('enter salary:')\n",
    "company=input('enter company name:')\n",
    "print('\\n')\n",
    "print('printing employee details')\n",
    "print('name','salary','company')\n",
    "print(name+company,',',company,',',salary)\n",
    "type(print(name))"
   ]
  },
  {
   "cell_type": "code",
   "execution_count": 3,
   "id": "8c12efc1",
   "metadata": {},
   "outputs": [
    {
     "name": "stdout",
     "output_type": "stream",
     "text": [
      "enter employee name:'a'\n",
      "enter salary:'s'\n",
      "enter company name:'s'\n",
      "\n",
      "\n",
      "printing employee details\n",
      "name salary company\n",
      "'a''s' 's' 's'\n",
      "'a'\n"
     ]
    },
    {
     "data": {
      "text/plain": [
       "NoneType"
      ]
     },
     "execution_count": 3,
     "metadata": {},
     "output_type": "execute_result"
    }
   ],
   "source": [
    "name=input('enter employee name:')\n",
    "salary=input('enter salary:')\n",
    "company=input('enter company name:')\n",
    "print('\\n')\n",
    "print('printing employee details')\n",
    "print('name','salary','company')\n",
    "print(name+company,company,salary)\n",
    "type((name))"
   ]
  },
  {
   "cell_type": "code",
   "execution_count": null,
   "id": "bb33e1d0",
   "metadata": {},
   "outputs": [],
   "source": [
    "name=input(int(1))\n",
    "type(name)\n",
    "salary=input('enter salary:')\n",
    "company=input('enter company name:')\n",
    "print('\\n')\n",
    "print('printing employee details')\n",
    "print('name','salary','company')\n",
    "print(name+company,company,salary)\n",
    "type(print(name))"
   ]
  },
  {
   "cell_type": "code",
   "execution_count": 1,
   "id": "31e4d825",
   "metadata": {},
   "outputs": [],
   "source": [
    "#create a string using double quotes\n",
    "string1=\"python programing\""
   ]
  },
  {
   "cell_type": "code",
   "execution_count": null,
   "id": "4946ffc1",
   "metadata": {},
   "outputs": [],
   "source": [
    "#create a string using single quotes\n",
    "string1='python programing'"
   ]
  },
  {
   "cell_type": "code",
   "execution_count": 2,
   "id": "03d94ebf",
   "metadata": {},
   "outputs": [
    {
     "name": "stdout",
     "output_type": "stream",
     "text": [
      "python\n"
     ]
    }
   ],
   "source": [
    "# create string type varibles\n",
    "name=\"python\"\n",
    "print(name)"
   ]
  },
  {
   "cell_type": "code",
   "execution_count": 1,
   "id": "7fb74d24",
   "metadata": {},
   "outputs": [
    {
     "name": "stdout",
     "output_type": "stream",
     "text": [
      "alpha\n"
     ]
    }
   ],
   "source": [
    "# create string type varible\n",
    "name=\"alpha\"\n",
    "print(name)"
   ]
  },
  {
   "cell_type": "code",
   "execution_count": 3,
   "id": "97762170",
   "metadata": {},
   "outputs": [
    {
     "name": "stdout",
     "output_type": "stream",
     "text": [
      "i love python.\n"
     ]
    }
   ],
   "source": [
    "# create string type variable\n",
    "message=\"i love python.\"\n",
    "print(message)"
   ]
  },
  {
   "cell_type": "code",
   "execution_count": 7,
   "id": "8edae441",
   "metadata": {},
   "outputs": [
    {
     "name": "stdout",
     "output_type": "stream",
     "text": [
      "ten boys \n"
     ]
    }
   ],
   "source": [
    "#create string type variable\n",
    "message=\"ten boys \"\n",
    "print(message)"
   ]
  },
  {
   "cell_type": "code",
   "execution_count": 8,
   "id": "508e879d",
   "metadata": {},
   "outputs": [
    {
     "name": "stdout",
     "output_type": "stream",
     "text": [
      "hot\n"
     ]
    }
   ],
   "source": [
    "#create string type variable\n",
    "day=\"hot\"\n",
    "print(day)"
   ]
  },
  {
   "cell_type": "code",
   "execution_count": null,
   "id": "9631bc0d",
   "metadata": {},
   "outputs": [],
   "source": [
    "python input out put function"
   ]
  },
  {
   "cell_type": "code",
   "execution_count": 9,
   "id": "10f9584b",
   "metadata": {},
   "outputs": [
    {
     "name": "stdout",
     "output_type": "stream",
     "text": [
      "good 8 moring\n"
     ]
    }
   ],
   "source": [
    "print('good',8,'moring')"
   ]
  },
  {
   "cell_type": "code",
   "execution_count": 10,
   "id": "6649d9da",
   "metadata": {},
   "outputs": [
    {
     "name": "stdout",
     "output_type": "stream",
     "text": [
      "good 8 moring,sep\n"
     ]
    }
   ],
   "source": [
    "print('good',8,'moring,sep')"
   ]
  },
  {
   "cell_type": "code",
   "execution_count": 11,
   "id": "fd204fb7",
   "metadata": {},
   "outputs": [
    {
     "name": "stdout",
     "output_type": "stream",
     "text": [
      "good 9 evening monday oct\n"
     ]
    }
   ],
   "source": [
    "print('good',9,'evening','monday','oct')"
   ]
  },
  {
   "cell_type": "code",
   "execution_count": 15,
   "id": "64b71cbd",
   "metadata": {},
   "outputs": [
    {
     "ename": "IndentationError",
     "evalue": "expected an indented block after 'for' statement on line 1 (3618231706.py, line 2)",
     "output_type": "error",
     "traceback": [
      "\u001b[1;36m  Cell \u001b[1;32mIn[15], line 2\u001b[1;36m\u001b[0m\n\u001b[1;33m    print(n)\u001b[0m\n\u001b[1;37m    ^\u001b[0m\n\u001b[1;31mIndentationError\u001b[0m\u001b[1;31m:\u001b[0m expected an indented block after 'for' statement on line 1\n"
     ]
    }
   ],
   "source": [
    "for n in range(15):\n",
    "print(n)    "
   ]
  },
  {
   "cell_type": "code",
   "execution_count": 18,
   "id": "a3a7e6ec",
   "metadata": {},
   "outputs": [
    {
     "name": "stdout",
     "output_type": "stream",
     "text": [
      "This book is {} and that\n"
     ]
    }
   ],
   "source": [
    "a='mine'; b='yours'\n",
    "print('This book is {} and that')    "
   ]
  },
  {
   "cell_type": "code",
   "execution_count": 19,
   "id": "29126cbd",
   "metadata": {},
   "outputs": [
    {
     "name": "stdout",
     "output_type": "stream",
     "text": [
      "what is your nameramesh\n",
      "ramesh\n"
     ]
    }
   ],
   "source": [
    "name=input('what is your name')\n",
    "print(name)"
   ]
  },
  {
   "cell_type": "code",
   "execution_count": null,
   "id": "3be77c5c",
   "metadata": {},
   "outputs": [],
   "source": []
  }
 ],
 "metadata": {
  "kernelspec": {
   "display_name": "Python 3 (ipykernel)",
   "language": "python",
   "name": "python3"
  },
  "language_info": {
   "codemirror_mode": {
    "name": "ipython",
    "version": 3
   },
   "file_extension": ".py",
   "mimetype": "text/x-python",
   "name": "python",
   "nbconvert_exporter": "python",
   "pygments_lexer": "ipython3",
   "version": "3.10.9"
  }
 },
 "nbformat": 4,
 "nbformat_minor": 5
}
