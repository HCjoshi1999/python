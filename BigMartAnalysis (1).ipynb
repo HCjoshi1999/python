{
 "cells": [
  {
   "cell_type": "markdown",
   "metadata": {},
   "source": [
    "The data scientists at BigMart have collected 2013 sales data for 1559 products across 10 stores in different cities. <br>\n",
    "Also, certain attributes of each product and store have been defined. The aim is to build a predictive model and predict the sales of each product at a particular outlet.<br>\n",
    "Using this model, BigMart will try to understand the properties of products and outlets which play a key role in increasing sales.<br>\n",
    "Please note that the data may have missing values as some stores might not report all the data due to technical glitches. <br>Hence, it will be required to treat them accordingly.\n"
   ]
  },
  {
   "cell_type": "raw",
   "metadata": {},
   "source": [
    "Item_Identifier ---- Unique product ID\n",
    "Item_Weight ---- Weight of product\n",
    "Item_Fat_Content ---- Whether the product is low fat or not\n",
    "Item_Visibility ---- The % of the total display area of all products in a store  allocated to the particular product\n",
    "Item_Type ---- The category to which the product belongs\n",
    "Item_MRP ---- Maximum Retail Price (list price) of the product\n",
    "Outlet_Identifier ---- Unique store ID\n",
    "Outlet_Establishment_Year ---- The year in which the store was established\n",
    "Outlet_Size ---- The size of the store in terms of ground area covered\n",
    "Outlet_Location_Type ---- The type of city in which the store is located\n",
    "*Outlet_Type ---- Whether the outlet is just a grocery store or some sort of supermarket\n",
    "Item_Outlet_Sales ---- Sales of the product in the particular store. This is the outcome variable to be predicted."
   ]
  },
  {
   "cell_type": "raw",
   "metadata": {},
   "source": [
    "Build a predictive model and find out the sales of each product at a particular store\n",
    "Using Ridge and Lasso regression techniques, interpret the coefficients of the model\n",
    "Make predictions using the model\n",
    "Evaluate model efficiency using RMSE and R-Square values\n"
   ]
  },
  {
   "cell_type": "code",
   "execution_count": null,
   "metadata": {
    "id": "L8oVCA0aIMo9"
   },
   "outputs": [],
   "source": [
    "import numpy as np\n",
    "import pandas as pd\n",
    "import matplotlib.pyplot as plt\n",
    "import seaborn as sns\n",
    "from sklearn.preprocessing import LabelEncoder\n",
    "from sklearn.preprocessing import StandardScaler\n",
    "from sklearn.linear_model import LinearRegression,Ridge, Lasso, ElasticNet\n",
    "from sklearn.metrics import r2_score,mean_squared_error\n",
    "from math import sqrt"
   ]
  },
  {
   "cell_type": "code",
   "execution_count": null,
   "metadata": {
    "colab": {
     "base_uri": "https://localhost:8080/",
     "height": 600
    },
    "id": "tMxXNzaVMcUz",
    "outputId": "00c37d05-2096-41f3-8c16-b837548d42a7"
   },
   "outputs": [],
   "source": [
    "df = pd.read_csv('Datasets/bigmart.csv')\n",
    "df.head(10)"
   ]
  },
  {
   "cell_type": "code",
   "execution_count": null,
   "metadata": {
    "colab": {
     "base_uri": "https://localhost:8080/"
    },
    "id": "OSVbuIMMOYpD",
    "outputId": "5e61c7f0-2365-4861-e79a-8c4a055415e5"
   },
   "outputs": [],
   "source": [
    "df.shape"
   ]
  },
  {
   "cell_type": "code",
   "execution_count": null,
   "metadata": {},
   "outputs": [],
   "source": [
    "df.info()"
   ]
  },
  {
   "cell_type": "code",
   "execution_count": null,
   "metadata": {},
   "outputs": [],
   "source": [
    "df.Item_Fat_Content.dtype"
   ]
  },
  {
   "cell_type": "markdown",
   "metadata": {},
   "source": [
    "Let us check the unique values of each categorical column"
   ]
  },
  {
   "cell_type": "code",
   "execution_count": null,
   "metadata": {},
   "outputs": [],
   "source": [
    "for col in df.columns:\n",
    "    if df[col].dtype == \"object\":\n",
    "        print(f\"The unique values for the column {col} are: \\n\\t\\t{df[col].unique()} and the no of unique values are {df[col].nunique()}\")"
   ]
  },
  {
   "cell_type": "markdown",
   "metadata": {},
   "source": [
    "**Observations**<br>\n",
    "<li>It can be seen the column Item_Fat_Content is having 3 different names for the category Low Fat (\"Low Fat\",\"low fat\",\"LF\") and two different names for the category Regular (\"Regular\",\"reg\")</li>"
   ]
  },
  {
   "cell_type": "code",
   "execution_count": null,
   "metadata": {},
   "outputs": [],
   "source": []
  },
  {
   "cell_type": "code",
   "execution_count": null,
   "metadata": {},
   "outputs": [],
   "source": [
    "# Let us correct the categories in the column Item_Fat_Content \n",
    "category_mapping = {\n",
    "    'Low Fat': 'Low Fat',\n",
    "    'low fat': 'Low Fat',\n",
    "    'LF': 'Low Fat',\n",
    "    'Regular': 'Regular',\n",
    "    'reg': 'Regular'\n",
    "}\n",
    "df['Item_Fat_Content'] = df['Item_Fat_Content'].map(category_mapping)\n",
    "\n",
    "df[\"Item_Fat_Content\"].unique()"
   ]
  },
  {
   "cell_type": "markdown",
   "metadata": {},
   "source": [
    "Outlet_Establishment_Year can be converted into the age of the Outlet."
   ]
  },
  {
   "cell_type": "code",
   "execution_count": null,
   "metadata": {},
   "outputs": [],
   "source": [
    "df['Outlet_Age'] = 2024-df['Outlet_Establishment_Year']\n",
    "df.head()"
   ]
  },
  {
   "cell_type": "code",
   "execution_count": null,
   "metadata": {},
   "outputs": [],
   "source": [
    "# Dropping the Outlet_Establishment_Year column as we have create the Outlet_Age column\n",
    "df.drop(columns=[\"Outlet_Establishment_Year\"],inplace=True)\n",
    "df.columns"
   ]
  },
  {
   "cell_type": "markdown",
   "metadata": {},
   "source": [
    "Let us check the missing values"
   ]
  },
  {
   "cell_type": "code",
   "execution_count": null,
   "metadata": {
    "colab": {
     "base_uri": "https://localhost:8080/"
    },
    "id": "Xts_5_p-PDa6",
    "outputId": "21df0f27-19e0-466b-d992-7687910b14a9"
   },
   "outputs": [],
   "source": [
    "df.isna().sum()  # Item_Weight -- 1463 and Outlet_Size -- 2410"
   ]
  },
  {
   "cell_type": "code",
   "execution_count": null,
   "metadata": {
    "colab": {
     "base_uri": "https://localhost:8080/",
     "height": 364
    },
    "id": "0CAZS5oyR-ry",
    "outputId": "608f3ba5-0db1-4fb9-de83-183617a483d3"
   },
   "outputs": [],
   "source": [
    "df.describe()"
   ]
  },
  {
   "cell_type": "markdown",
   "metadata": {},
   "source": [
    "Let us check the value counts of each category in each of the categorical columns"
   ]
  },
  {
   "cell_type": "code",
   "execution_count": null,
   "metadata": {},
   "outputs": [],
   "source": [
    "for col in df.columns:\n",
    "    if df[col].dtype == \"object\":\n",
    "        print(f\"Value counts for the column {col} are: \\n\\n{df[col].value_counts()}\\n\")"
   ]
  },
  {
   "cell_type": "markdown",
   "metadata": {},
   "source": [
    "Handling Missing Values"
   ]
  },
  {
   "cell_type": "code",
   "execution_count": null,
   "metadata": {},
   "outputs": [],
   "source": [
    "# Let us check the KDE of Item_Weight \n",
    "sns.kdeplot(x=df.Item_Weight)"
   ]
  },
  {
   "cell_type": "code",
   "execution_count": null,
   "metadata": {},
   "outputs": [],
   "source": [
    "{\"Mean of Item Weight\":df.Item_Weight.mean(), \"Mode of Item Weight\":df.Item_Weight.mode()[0], \"Median of Item Weight\":df.Item_Weight.median()}"
   ]
  },
  {
   "cell_type": "markdown",
   "metadata": {},
   "source": [
    "**Observations**<br>\n",
    "The mean, median and mode are approximately equal and give a true representation of the central tendency of the column Item_Weight.\n",
    "\n",
    "**Conclusion**<br>\n",
    "Therefore, we fill the missing values of the Item_Weight column with its mean"
   ]
  },
  {
   "cell_type": "code",
   "execution_count": null,
   "metadata": {
    "id": "IX_95H4VoQVC"
   },
   "outputs": [],
   "source": [
    "df['Item_Weight'] = df['Item_Weight'].fillna(df['Item_Weight'].mean())"
   ]
  },
  {
   "cell_type": "markdown",
   "metadata": {},
   "source": [
    "For the Outlet_Size column we are choosing to relace the missing values with the mode of the column that is \"Medium\""
   ]
  },
  {
   "cell_type": "code",
   "execution_count": null,
   "metadata": {
    "id": "yxwYwc1wmUp8"
   },
   "outputs": [],
   "source": [
    "df['Outlet_Size'] = df['Outlet_Size'].fillna(df['Outlet_Size'].mode()[0])"
   ]
  },
  {
   "cell_type": "code",
   "execution_count": null,
   "metadata": {
    "colab": {
     "base_uri": "https://localhost:8080/"
    },
    "id": "bqpqS0P3qLDm",
    "outputId": "b6d17335-ee1f-4382-b13f-4838c30d90a2"
   },
   "outputs": [],
   "source": [
    "df.isna().sum()"
   ]
  },
  {
   "cell_type": "markdown",
   "metadata": {},
   "source": [
    "### Univariate Analysis"
   ]
  },
  {
   "cell_type": "code",
   "execution_count": null,
   "metadata": {
    "colab": {
     "base_uri": "https://localhost:8080/",
     "height": 469
    },
    "id": "JGiUB6csqSh7",
    "outputId": "30009ae6-cb7d-46d1-8223-81370daea4c3"
   },
   "outputs": [],
   "source": [
    "df['Item_Visibility'].hist(bins=20)\n",
    "plt.title('Item Visibility')"
   ]
  },
  {
   "cell_type": "code",
   "execution_count": null,
   "metadata": {
    "colab": {
     "base_uri": "https://localhost:8080/",
     "height": 569
    },
    "id": "1Bw1DGS3sJhm",
    "outputId": "e62e81ec-7529-4ea9-dc75-f4a4d430c473"
   },
   "outputs": [],
   "source": [
    "plt.boxplot(df['Item_Visibility'])"
   ]
  },
  {
   "cell_type": "code",
   "execution_count": null,
   "metadata": {
    "id": "r01GOx0KsnPE"
   },
   "outputs": [],
   "source": [
    "# Filtering the dataset with no outliers with respect to the Item_Visibility Column\n",
    "Q1 = df['Item_Visibility'].quantile(0.25)\n",
    "Q3 = df['Item_Visibility'].quantile(0.75)\n",
    "IQR = (Q3-Q1)\n",
    "filt_df = df.query('(@Q1 - 1.5*@IQR) <= Item_Visibility <=(@Q3 + 1.5 * @IQR)')   ## Formula for outlier"
   ]
  },
  {
   "cell_type": "code",
   "execution_count": null,
   "metadata": {
    "colab": {
     "base_uri": "https://localhost:8080/",
     "height": 357
    },
    "id": "ANe1zKEdt2N7",
    "outputId": "debdc054-7898-41e8-e611-8aef6276e0b7"
   },
   "outputs": [],
   "source": [
    "filt_df.head()"
   ]
  },
  {
   "cell_type": "code",
   "execution_count": null,
   "metadata": {
    "colab": {
     "base_uri": "https://localhost:8080/"
    },
    "id": "6D96AuwM2emI",
    "outputId": "a66414df-2abc-42f8-f45a-79ab14d4e013"
   },
   "outputs": [],
   "source": [
    "filt_df.shape , df.shape"
   ]
  },
  {
   "cell_type": "code",
   "execution_count": null,
   "metadata": {},
   "outputs": [],
   "source": [
    "df.shape[0] - filt_train.shape[0] # This gives the no of rows that will be removed on filtering"
   ]
  },
  {
   "cell_type": "code",
   "execution_count": null,
   "metadata": {
    "id": "p5GkzP9N4EEg"
   },
   "outputs": [],
   "source": [
    "# We will continue with the filtered data \n",
    "df = filt_train"
   ]
  },
  {
   "cell_type": "code",
   "execution_count": null,
   "metadata": {
    "id": "g7CwNNzW4JZI"
   },
   "outputs": [],
   "source": [
    "df.loc[:,'Item_Visibility_bins'] = pd.cut(df['Item_Visibility'],[0.000,0.065,0.13,0.2],labels=['Low Viz','Viz','High Viz'])"
   ]
  },
  {
   "cell_type": "code",
   "execution_count": null,
   "metadata": {
    "colab": {
     "base_uri": "https://localhost:8080/"
    },
    "id": "TVEY6hLEqPIm",
    "outputId": "a9a78798-b43b-4e8c-bb39-6d0755229d12"
   },
   "outputs": [],
   "source": [
    "df.groupby(['Item_Visibility']).max()['Item_Visibility_bins']"
   ]
  },
  {
   "cell_type": "code",
   "execution_count": null,
   "metadata": {},
   "outputs": [],
   "source": [
    "# Checking the missing values in the Item_Visibility_bins column\n",
    "df[\"Item_Visibility_bins\"].isna().sum()"
   ]
  },
  {
   "cell_type": "markdown",
   "metadata": {},
   "source": [
    "**Observations** - The Item_Visibility_bins column is having missing values for the items which have a zero visibility."
   ]
  },
  {
   "cell_type": "code",
   "execution_count": null,
   "metadata": {
    "id": "XFi_ODs4F3fX"
   },
   "outputs": [],
   "source": [
    "# Filling the missing values with Low_Viz\n",
    "df.loc[:,'Item_Visibility_bins'] = df['Item_Visibility_bins'].fillna('Low Viz')"
   ]
  },
  {
   "cell_type": "code",
   "execution_count": null,
   "metadata": {
    "colab": {
     "base_uri": "https://localhost:8080/",
     "height": 661
    },
    "id": "Cw_k4yttpKpL",
    "outputId": "1ff93142-3eb8-4b63-de26-e9a46db5b19a"
   },
   "outputs": [],
   "source": [
    "df[\"Item_Visibility_bins\"].isnull().sum()"
   ]
  },
  {
   "cell_type": "markdown",
   "metadata": {},
   "source": [
    "## Label Encoding"
   ]
  },
  {
   "cell_type": "markdown",
   "metadata": {},
   "source": [
    "Now we perform Label Encoding for the categorical columns with ordinal categories"
   ]
  },
  {
   "cell_type": "code",
   "execution_count": null,
   "metadata": {
    "id": "NVwEfsM4LT4n"
   },
   "outputs": [],
   "source": [
    "le = LabelEncoder()"
   ]
  },
  {
   "cell_type": "code",
   "execution_count": null,
   "metadata": {
    "id": "OMSquBiCNx8Q"
   },
   "outputs": [],
   "source": [
    "df.loc[:,'Item_Fat_Content'] = le.fit_transform(df['Item_Fat_Content'])"
   ]
  },
  {
   "cell_type": "code",
   "execution_count": null,
   "metadata": {
    "id": "zE6zuECcbE3N"
   },
   "outputs": [],
   "source": [
    "df.loc[:,'Item_Visibility_bins'] = le.fit_transform(df['Item_Visibility_bins'].astype(str))"
   ]
  },
  {
   "cell_type": "code",
   "execution_count": null,
   "metadata": {
    "id": "SLqFV8ZGdAn_"
   },
   "outputs": [],
   "source": [
    "df.loc[:,'Outlet_Size'] = le.fit_transform(df['Outlet_Size'])"
   ]
  },
  {
   "cell_type": "code",
   "execution_count": null,
   "metadata": {
    "id": "0euMOJK9gJRt"
   },
   "outputs": [],
   "source": [
    "df.loc[:,'Outlet_Location_Type'] = le.fit_transform(df['Outlet_Location_Type'])"
   ]
  },
  {
   "cell_type": "markdown",
   "metadata": {},
   "source": [
    "### One-hot encoding"
   ]
  },
  {
   "cell_type": "markdown",
   "metadata": {},
   "source": [
    "Let's create dummy variables for categorical columns with nominal categories"
   ]
  },
  {
   "cell_type": "code",
   "execution_count": null,
   "metadata": {
    "colab": {
     "base_uri": "https://localhost:8080/",
     "height": 250
    },
    "id": "xIWAP3q4dPg0",
    "outputId": "171ff449-d9e4-46df-ebce-e2031ed6def7"
   },
   "outputs": [],
   "source": [
    "## Create dummy variable for Outlet Type\n",
    "dummy = pd.get_dummies(df['Outlet_Type'],drop_first=True)\n",
    "dummy.head()"
   ]
  },
  {
   "cell_type": "code",
   "execution_count": null,
   "metadata": {
    "id": "SL3MQlq8oaHE"
   },
   "outputs": [],
   "source": [
    "df = pd.concat([df,dummy],axis=1)"
   ]
  },
  {
   "cell_type": "code",
   "execution_count": null,
   "metadata": {
    "colab": {
     "base_uri": "https://localhost:8080/",
     "height": 678
    },
    "id": "Ek5F5brcoeYY",
    "outputId": "72c6862f-58c2-4530-91c2-9122fd0a8f62"
   },
   "outputs": [],
   "source": [
    "df"
   ]
  },
  {
   "cell_type": "code",
   "execution_count": null,
   "metadata": {
    "colab": {
     "base_uri": "https://localhost:8080/"
    },
    "id": "N740aqrCosLJ",
    "outputId": "ef424600-6dfc-42ef-987e-cdfb29105de8"
   },
   "outputs": [],
   "source": [
    "df.dtypes"
   ]
  },
  {
   "cell_type": "markdown",
   "metadata": {},
   "source": [
    "### Dropping unnecessary columns"
   ]
  },
  {
   "cell_type": "code",
   "execution_count": null,
   "metadata": {
    "colab": {
     "base_uri": "https://localhost:8080/"
    },
    "id": "783g-bPmoeyY",
    "outputId": "2eaa8d60-d0dd-4497-c0a7-0d36e5fa3b47"
   },
   "outputs": [],
   "source": [
    "# Removing unnecessary column\n",
    "df = df.drop(['Item_Identifier','Item_Type','Outlet_Identifier','Outlet_Type'],axis=1)\n",
    "df.columns"
   ]
  },
  {
   "cell_type": "code",
   "execution_count": null,
   "metadata": {
    "colab": {
     "base_uri": "https://localhost:8080/",
     "height": 287
    },
    "id": "C054w4VSpT4u",
    "outputId": "f3082c15-bf81-4ba1-d385-d6e8449019be"
   },
   "outputs": [],
   "source": [
    "df.head()"
   ]
  },
  {
   "cell_type": "code",
   "execution_count": null,
   "metadata": {
    "colab": {
     "base_uri": "https://localhost:8080/"
    },
    "id": "yvjtcoI0pVGQ",
    "outputId": "c77c61bc-8909-4861-ad3b-e506c18a0811",
    "scrolled": true
   },
   "outputs": [],
   "source": [
    "df.isnull().sum()"
   ]
  },
  {
   "cell_type": "markdown",
   "metadata": {},
   "source": [
    "# Model Training"
   ]
  },
  {
   "cell_type": "code",
   "execution_count": null,
   "metadata": {},
   "outputs": [],
   "source": [
    "X= df.drop(columns=[\"Item_Outlet_Sales\"])\n",
    "y = df.Item_Outlet_Sales"
   ]
  },
  {
   "cell_type": "markdown",
   "metadata": {},
   "source": [
    "### Train test split"
   ]
  },
  {
   "cell_type": "code",
   "execution_count": null,
   "metadata": {},
   "outputs": [],
   "source": [
    "from sklearn.model_selection import train_test_split\n",
    "xtrain,xtest,ytrain,ytest = train_test_split(X,y,test_size=0.3,random_state=42)\n",
    "print(xtrain.shape)\n",
    "print(xtest.shape)\n",
    "print(ytrain.shape)\n",
    "print(ytest.shape)"
   ]
  },
  {
   "cell_type": "markdown",
   "metadata": {},
   "source": [
    "### Standardization "
   ]
  },
  {
   "cell_type": "code",
   "execution_count": null,
   "metadata": {},
   "outputs": [],
   "source": [
    "scaler = StandardScaler()\n",
    "xtrain = scaler.fit_transform(xtrain)\n",
    "xtest = scaler.transform(xtest)"
   ]
  },
  {
   "cell_type": "markdown",
   "metadata": {},
   "source": [
    "### Linear Regression Model"
   ]
  },
  {
   "cell_type": "code",
   "execution_count": null,
   "metadata": {},
   "outputs": [],
   "source": [
    "linear = LinearRegression()\n",
    "linear.fit(xtrain,ytrain)"
   ]
  },
  {
   "cell_type": "code",
   "execution_count": null,
   "metadata": {},
   "outputs": [],
   "source": [
    "print(f\"The intercept is {linear.intercept_}\") # Gives the intercept\n",
    "print(f\"The coefficients are {linear.coef_}\") # Gives the coefficient"
   ]
  },
  {
   "cell_type": "code",
   "execution_count": null,
   "metadata": {},
   "outputs": [],
   "source": [
    "preds_train = linear.predict(xtrain)\n",
    "preds_test = linear.predict(xtest)"
   ]
  },
  {
   "cell_type": "code",
   "execution_count": null,
   "metadata": {},
   "outputs": [],
   "source": [
    "from sklearn.metrics import r2_score,mean_squared_error\n",
    "print(f\"RMSE for train data is : {np.sqrt(mean_squared_error(ytrain,preds_train))}\")\n",
    "print(f\"R2 for train data is {r2_score(ytrain,preds_train)}\")\n",
    "print(f\"RMSE for test data is : {np.sqrt(mean_squared_error(ytest,preds_test))}\")\n",
    "print(f\"R2 for test data is {r2_score(ytest,preds_test)}\")\n"
   ]
  },
  {
   "cell_type": "markdown",
   "metadata": {},
   "source": [
    "### Ridge Regression"
   ]
  },
  {
   "cell_type": "code",
   "execution_count": null,
   "metadata": {},
   "outputs": [],
   "source": [
    "ridge = Ridge() # alpha =1 by default\n",
    "ridge.fit(xtrain,ytrain)"
   ]
  },
  {
   "cell_type": "code",
   "execution_count": null,
   "metadata": {},
   "outputs": [],
   "source": [
    "print(f\"The intercept is {ridge.intercept_}\") # Gives the intercept\n",
    "print(f\"The coefficients are {ridge.coef_}\") # Gives the coefficient"
   ]
  },
  {
   "cell_type": "code",
   "execution_count": null,
   "metadata": {},
   "outputs": [],
   "source": [
    "preds_train = ridge.predict(xtrain)\n",
    "preds_test = ridge.predict(xtest)"
   ]
  },
  {
   "cell_type": "code",
   "execution_count": null,
   "metadata": {},
   "outputs": [],
   "source": [
    "from sklearn.metrics import r2_score,mean_squared_error\n",
    "print(f\"RMSE for train data is : {np.sqrt(mean_squared_error(ytrain,preds_train))}\")\n",
    "print(f\"R2 for train data is {r2_score(ytrain,preds_train)}\")\n",
    "print(f\"RMSE for test data is : {np.sqrt(mean_squared_error(ytest,preds_test))}\")\n",
    "print(f\"R2 for test data is {r2_score(ytest,preds_test)}\")\n"
   ]
  },
  {
   "cell_type": "markdown",
   "metadata": {},
   "source": [
    "### Lasso Regression"
   ]
  },
  {
   "cell_type": "code",
   "execution_count": null,
   "metadata": {},
   "outputs": [],
   "source": [
    "lasso = Lasso() # alpha =1 by default\n",
    "lasso.fit(xtrain,ytrain)"
   ]
  },
  {
   "cell_type": "code",
   "execution_count": null,
   "metadata": {},
   "outputs": [],
   "source": [
    "print(f\"The intercept is {lasso.intercept_}\") # Gives the intercept\n",
    "print(f\"The coefficients are {lasso.coef_}\") # Gives the coefficient"
   ]
  },
  {
   "cell_type": "code",
   "execution_count": null,
   "metadata": {},
   "outputs": [],
   "source": [
    "preds_train = lasso.predict(xtrain)\n",
    "preds_test = lasso.predict(xtest)"
   ]
  },
  {
   "cell_type": "code",
   "execution_count": null,
   "metadata": {},
   "outputs": [],
   "source": [
    "from sklearn.metrics import r2_score,mean_squared_error\n",
    "print(f\"RMSE for train data is : {np.sqrt(mean_squared_error(ytrain,preds_train))}\")\n",
    "print(f\"R2 for train data is {r2_score(ytrain,preds_train)}\")\n",
    "print(f\"RMSE for test data is : {np.sqrt(mean_squared_error(ytest,preds_test))}\")\n",
    "print(f\"R2 for test data is {r2_score(ytest,preds_test)}\")\n"
   ]
  },
  {
   "cell_type": "markdown",
   "metadata": {},
   "source": [
    "### ElasticNet"
   ]
  },
  {
   "cell_type": "code",
   "execution_count": null,
   "metadata": {},
   "outputs": [],
   "source": [
    "elastic = ElasticNet(alpha=1) # alpha =1 by default\n",
    "elastic.fit(xtrain,ytrain)"
   ]
  },
  {
   "cell_type": "code",
   "execution_count": null,
   "metadata": {},
   "outputs": [],
   "source": [
    "print(f\"The intercept is {elastic.intercept_}\") # Gives the intercept\n",
    "print(f\"The coefficients are {elastic.coef_}\") # Gives the coefficient"
   ]
  },
  {
   "cell_type": "code",
   "execution_count": null,
   "metadata": {},
   "outputs": [],
   "source": [
    "preds_train = elastic.predict(xtrain)\n",
    "preds_test = elastic.predict(xtest)"
   ]
  },
  {
   "cell_type": "code",
   "execution_count": null,
   "metadata": {},
   "outputs": [],
   "source": [
    "from sklearn.metrics import r2_score,mean_squared_error\n",
    "print(f\"RMSE for train data is : {np.sqrt(mean_squared_error(ytrain,preds_train))}\")\n",
    "print(f\"R2 for train data is {r2_score(ytrain,preds_train)}\")\n",
    "print(f\"RMSE for test data is : {np.sqrt(mean_squared_error(ytest,preds_test))}\")\n",
    "print(f\"R2 for test data is {r2_score(ytest,preds_test)}\")\n"
   ]
  },
  {
   "cell_type": "code",
   "execution_count": null,
   "metadata": {},
   "outputs": [],
   "source": []
  },
  {
   "cell_type": "code",
   "execution_count": null,
   "metadata": {},
   "outputs": [],
   "source": []
  },
  {
   "cell_type": "code",
   "execution_count": null,
   "metadata": {},
   "outputs": [],
   "source": []
  }
 ],
 "metadata": {
  "colab": {
   "provenance": []
  },
  "kernelspec": {
   "display_name": "Python 3 (ipykernel)",
   "language": "python",
   "name": "python3"
  },
  "language_info": {
   "codemirror_mode": {
    "name": "ipython",
    "version": 3
   },
   "file_extension": ".py",
   "mimetype": "text/x-python",
   "name": "python",
   "nbconvert_exporter": "python",
   "pygments_lexer": "ipython3",
   "version": "3.10.9"
  }
 },
 "nbformat": 4,
 "nbformat_minor": 4
}
